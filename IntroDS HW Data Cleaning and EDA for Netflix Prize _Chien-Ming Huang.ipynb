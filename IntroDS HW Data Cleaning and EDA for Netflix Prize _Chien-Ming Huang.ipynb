{
 "cells": [
  {
   "cell_type": "markdown",
   "metadata": {},
   "source": [
    "# Introduction To Data Science HW Data Cleaning and EDA for Netflix Prize "
   ]
  },
  {
   "cell_type": "markdown",
   "metadata": {},
   "source": [
    "## This HW, we need to do the data cleaning for Netflix Prize Data\n",
    "## In the below is the dataset description\n",
    "TRAINING DATASET FILE DESCRIPTION\n",
    "================================================================================\n",
    "In this part, we have 4 files \"combined_data_1.txt\", \"combined_data_2.txt\", \"combined_data_3.txt\", \"combined_data_4.txt\"\n",
    "\n",
    "THe format is in the below: \n",
    "\n",
    "CustomerID,Rating,Date\n",
    "\n",
    "- MovieIDs range from 1 to 17770 sequentially.\n",
    "- CustomerIDs range from 1 to 2649429, with gaps. There are 480189 users.\n",
    "- Ratings are on a five star (integral) scale from 1 to 5.\n",
    "- Dates have the format YYYY-MM-DD.\n",
    "\n",
    "MOVIES FILE DESCRIPTION\n",
    "================================================================================\n",
    "\n",
    "Movie information in \"movie_titles.csv\" is in the following format:\n",
    "\n",
    "MovieID,YearOfRelease,Title\n",
    "\n",
    "- MovieID do not correspond to actual Netflix movie ids or IMDB movie ids.\n",
    "- YearOfRelease can range from 1890 to 2005 and may correspond to the release of\n",
    "  corresponding DVD, not necessarily its theaterical release.\n",
    "- Title is the Netflix movie title and may not correspond to \n",
    "  titles used on other sites.  Titles are in English."
   ]
  },
  {
   "cell_type": "markdown",
   "metadata": {},
   "source": [
    "# First Deal with training set data cleaning"
   ]
  },
  {
   "cell_type": "code",
   "execution_count": 2,
   "metadata": {
    "collapsed": true
   },
   "outputs": [],
   "source": [
    "# To show graphs in jupyter notebook using %matplotlib inline \n",
    "%matplotlib inline \n",
    "\n",
    "# Import shutil, numby, pandas, seaborn, matplotlib.pyplot, dask.dataframe, dask.array libraries\n",
    "import os\n",
    "import shutil\n",
    "import numpy as np\n",
    "import pandas as pd\n",
    "import seaborn as sns\n",
    "import matplotlib.pyplot as plt"
   ]
  },
  {
   "cell_type": "code",
   "execution_count": 4,
   "metadata": {
    "collapsed": true
   },
   "outputs": [],
   "source": [
    "# Combine all combined data together into one 2G csv file\n",
    "with open(\"/Users/ChienMingHuang/Desktop/netflix-prize-data/combined_data.csv\",'w') as wfd:\n",
    "    for f in [\"/Users/ChienMingHuang/Desktop/netflix-prize-data/combined_data_1.txt\", \"/Users/ChienMingHuang/Desktop/netflix-prize-data/combined_data_2.txt\", \"/Users/ChienMingHuang/Desktop/netflix-prize-data/combined_data_3.txt\", \"/Users/ChienMingHuang/Desktop/netflix-prize-data/combined_data_4.txt\"]:\n",
    "        with open(f,'r') as fd:\n",
    "            shutil.copyfileobj(fd, wfd, 1024*1024*10)\n",
    "            #10MB per writing chunk to avoid reading big file into memory."
   ]
  },
  {
   "cell_type": "code",
   "execution_count": 3,
   "metadata": {},
   "outputs": [
    {
     "data": {
      "text/html": [
       "<div>\n",
       "<style>\n",
       "    .dataframe thead tr:only-child th {\n",
       "        text-align: right;\n",
       "    }\n",
       "\n",
       "    .dataframe thead th {\n",
       "        text-align: left;\n",
       "    }\n",
       "\n",
       "    .dataframe tbody tr th {\n",
       "        vertical-align: top;\n",
       "    }\n",
       "</style>\n",
       "<table border=\"1\" class=\"dataframe\">\n",
       "  <thead>\n",
       "    <tr style=\"text-align: right;\">\n",
       "      <th></th>\n",
       "      <th>CustomerID</th>\n",
       "      <th>Rating</th>\n",
       "      <th>Date</th>\n",
       "    </tr>\n",
       "  </thead>\n",
       "  <tbody>\n",
       "    <tr>\n",
       "      <th>0</th>\n",
       "      <td>1:</td>\n",
       "      <td>NaN</td>\n",
       "      <td>NaN</td>\n",
       "    </tr>\n",
       "    <tr>\n",
       "      <th>1</th>\n",
       "      <td>1488844</td>\n",
       "      <td>3.0</td>\n",
       "      <td>2005-09-06</td>\n",
       "    </tr>\n",
       "    <tr>\n",
       "      <th>2</th>\n",
       "      <td>822109</td>\n",
       "      <td>5.0</td>\n",
       "      <td>2005-05-13</td>\n",
       "    </tr>\n",
       "    <tr>\n",
       "      <th>3</th>\n",
       "      <td>885013</td>\n",
       "      <td>4.0</td>\n",
       "      <td>2005-10-19</td>\n",
       "    </tr>\n",
       "    <tr>\n",
       "      <th>4</th>\n",
       "      <td>30878</td>\n",
       "      <td>4.0</td>\n",
       "      <td>2005-12-26</td>\n",
       "    </tr>\n",
       "  </tbody>\n",
       "</table>\n",
       "</div>"
      ],
      "text/plain": [
       "  CustomerID  Rating        Date\n",
       "0         1:     NaN         NaN\n",
       "1    1488844     3.0  2005-09-06\n",
       "2     822109     5.0  2005-05-13\n",
       "3     885013     4.0  2005-10-19\n",
       "4      30878     4.0  2005-12-26"
      ]
     },
     "execution_count": 3,
     "metadata": {},
     "output_type": "execute_result"
    }
   ],
   "source": [
    "# Read the combined csv file and give the column names ['CustomerID', 'Rating', 'Date']\n",
    "train = pd.read_csv(\"/Users/ChienMingHuang/Desktop/netflix-prize-data/combined_data.csv\", header = None, names = ['CustomerID', 'Rating', 'Date'])\n",
    "\n",
    "# Read the first 5 rows of train\n",
    "train.head()\n",
    "# we can see that the file that has some messy becasue the dataset put the customerid and movieid into the same column"
   ]
  },
  {
   "cell_type": "code",
   "execution_count": 14,
   "metadata": {},
   "outputs": [
    {
     "data": {
      "image/png": "[encoded data removed]",
      "text/plain": [
       "<matplotlib.figure.Figure at 0x11428f470>"
      ]
     },
     "metadata": {},
     "output_type": "display_data"
    }
   ],
   "source": [
    "# Using .groupby function to group up rating to do the count\n",
    "p = train.groupby('Rating')['Rating'].agg(['count'])\n",
    "\n",
    "# Get movie count using .isnull() and .sum()[1] means sum the answer for the customerid that column since customerid and movieid mixes and null ones mean movies.\n",
    "movie_count = train.isnull().sum()[1]\n",
    "\n",
    "# Get customer count using .nunique() for customerid that row and minus the movie_count\n",
    "cust_count = train['CustomerID'].nunique() - movie_count\n",
    "\n",
    "# Get rating count using .nunique() for customerid that row and minus the movie_count since customerid and rating are same lengths\n",
    "rating_count = train['CustomerID'].count() - movie_count\n",
    "\n",
    "# Using .plot giving the kind use barh for bar and give the figure length for 15 and width for 10\n",
    "ax = p.plot(kind = 'barh', legend = False, figsize = (15,10))\n",
    "\n",
    "# Create the plot title to tell how many movies, how many customers, and how many ratings for this dataset, and set up the font size as 20\n",
    "# We can find out that are 100M records here.\n",
    "plt.title('Total pool: {:,} Movies, {:,} customers, {:,} ratings given'.format(movie_count, cust_count, rating_count), fontsize=20)\n",
    "\n",
    "# Remove the plot axis line\n",
    "plt.axis('off')\n",
    "\n",
    "# Create the plot using .iloc and show each rating , and doign the format with color white for words and set weight as bold\n",
    "for i in range(1,6):\n",
    "    ax.text(p.iloc[i-1][0]/4, i-1, 'Rating {}: {:.0f}%'.format(i, p.iloc[i-1][0]*100 / p.sum()[0]), color = 'white', weight = 'bold')\n",
    "\n",
    "# We can find out most people giving movies rating 4 then rating 3 for the movies"
   ]
  },
  {
   "cell_type": "code",
   "execution_count": 10,
   "metadata": {},
   "outputs": [
    {
     "data": {
      "text/html": [
       "<div>\n",
       "<style>\n",
       "    .dataframe thead tr:only-child th {\n",
       "        text-align: right;\n",
       "    }\n",
       "\n",
       "    .dataframe thead th {\n",
       "        text-align: left;\n",
       "    }\n",
       "\n",
       "    .dataframe tbody tr th {\n",
       "        vertical-align: top;\n",
       "    }\n",
       "</style>\n",
       "<table border=\"1\" class=\"dataframe\">\n",
       "  <thead>\n",
       "    <tr style=\"text-align: right;\">\n",
       "      <th></th>\n",
       "      <th>index</th>\n",
       "      <th>Rating</th>\n",
       "    </tr>\n",
       "  </thead>\n",
       "  <tbody>\n",
       "    <tr>\n",
       "      <th>0</th>\n",
       "      <td>0</td>\n",
       "      <td>True</td>\n",
       "    </tr>\n",
       "    <tr>\n",
       "      <th>1</th>\n",
       "      <td>548</td>\n",
       "      <td>True</td>\n",
       "    </tr>\n",
       "    <tr>\n",
       "      <th>2</th>\n",
       "      <td>694</td>\n",
       "      <td>True</td>\n",
       "    </tr>\n",
       "    <tr>\n",
       "      <th>3</th>\n",
       "      <td>2707</td>\n",
       "      <td>True</td>\n",
       "    </tr>\n",
       "    <tr>\n",
       "      <th>4</th>\n",
       "      <td>2850</td>\n",
       "      <td>True</td>\n",
       "    </tr>\n",
       "  </tbody>\n",
       "</table>\n",
       "</div>"
      ],
      "text/plain": [
       "   index  Rating\n",
       "0      0    True\n",
       "1    548    True\n",
       "2    694    True\n",
       "3   2707    True\n",
       "4   2850    True"
      ]
     },
     "execution_count": 10,
     "metadata": {},
     "output_type": "execute_result"
    }
   ],
   "source": [
    "# In this part, we need to reconstructure the training set\n",
    "# First we need to find out which rows are movieid rows and pick them out \n",
    "# Use dd.Series.isnull() to find train.Rating is NaN then use dd.Series.to_frame convert series to frame\n",
    "train_nan= pd.DataFrame(pd.isnull(train.Rating))\n",
    "\n",
    "# Select those true value in Rating which means choosing all the movieid rows\n",
    "train_nan = train_nan[train_nan.Rating == True]\n",
    "\n",
    "# Reset the index for train_nan, then keep the origin index representing movieid rows as a column\n",
    "train_nan = train_nan.reset_index()\n",
    "\n",
    "# Read the first 5 rows of train_nan which representing the index row of movieid\n",
    "train_nan.head()"
   ]
  },
  {
   "cell_type": "code",
   "execution_count": 12,
   "metadata": {},
   "outputs": [
    {
     "name": "stdout",
     "output_type": "stream",
     "text": [
      "CPU times: user 32min 2s, sys: 49min 11s, total: 1h 21min 14s\n",
      "Wall time: 1h 24min 33s\n"
     ]
    }
   ],
   "source": [
    "%%time\n",
    "# Later we create a numpy list for movieid later to put in\n",
    "# set movie_np as a list\n",
    "movie_np = []\n",
    "\n",
    "# set movie_id starts at 1\n",
    "movie_id = 1\n",
    "\n",
    "# build up the movie_np list and using movie_id doing loop and append every movieid for each rating into the column\n",
    "for i,j in zip(train_nan['index'][1:],train_nan['index'][:-1]):\n",
    "    temp = np.full((1,i-j-1), movie_id)\n",
    "    movie_np = np.append(movie_np, temp)\n",
    "    movie_id += 1"
   ]
  },
  {
   "cell_type": "code",
   "execution_count": 13,
   "metadata": {},
   "outputs": [
    {
     "name": "stdout",
     "output_type": "stream",
     "text": [
      "Movie numpy: [  1.00000000e+00   1.00000000e+00   1.00000000e+00 ...,   1.77700000e+04\n",
      "   1.77700000e+04   1.77700000e+04]\n",
      "Length: 100480507\n"
     ]
    }
   ],
   "source": [
    "# Account for last record and corresponding length\n",
    "last_record = np.full((1,len(train) - train_nan.iloc[-1, 0] - 1),movie_id)\n",
    "movie_np = np.append(movie_np, last_record)\n",
    "\n",
    "# Check the movieid list and check the length is the same as train\n",
    "print('Movie numpy: {}'.format(movie_np))\n",
    "print('Length: {}'.format(len(movie_np)))"
   ]
  },
  {
   "cell_type": "code",
   "execution_count": 14,
   "metadata": {},
   "outputs": [
    {
     "data": {
      "text/html": [
       "<div>\n",
       "<style>\n",
       "    .dataframe thead tr:only-child th {\n",
       "        text-align: right;\n",
       "    }\n",
       "\n",
       "    .dataframe thead th {\n",
       "        text-align: left;\n",
       "    }\n",
       "\n",
       "    .dataframe tbody tr th {\n",
       "        vertical-align: top;\n",
       "    }\n",
       "</style>\n",
       "<table border=\"1\" class=\"dataframe\">\n",
       "  <thead>\n",
       "    <tr style=\"text-align: right;\">\n",
       "      <th></th>\n",
       "      <th>CustomerID</th>\n",
       "      <th>Rating</th>\n",
       "      <th>Date</th>\n",
       "      <th>MovieID</th>\n",
       "    </tr>\n",
       "  </thead>\n",
       "  <tbody>\n",
       "    <tr>\n",
       "      <th>1</th>\n",
       "      <td>1488844</td>\n",
       "      <td>3.0</td>\n",
       "      <td>2005-09-06</td>\n",
       "      <td>1</td>\n",
       "    </tr>\n",
       "    <tr>\n",
       "      <th>2</th>\n",
       "      <td>822109</td>\n",
       "      <td>5.0</td>\n",
       "      <td>2005-05-13</td>\n",
       "      <td>1</td>\n",
       "    </tr>\n",
       "    <tr>\n",
       "      <th>3</th>\n",
       "      <td>885013</td>\n",
       "      <td>4.0</td>\n",
       "      <td>2005-10-19</td>\n",
       "      <td>1</td>\n",
       "    </tr>\n",
       "    <tr>\n",
       "      <th>4</th>\n",
       "      <td>30878</td>\n",
       "      <td>4.0</td>\n",
       "      <td>2005-12-26</td>\n",
       "      <td>1</td>\n",
       "    </tr>\n",
       "    <tr>\n",
       "      <th>5</th>\n",
       "      <td>823519</td>\n",
       "      <td>3.0</td>\n",
       "      <td>2004-05-03</td>\n",
       "      <td>1</td>\n",
       "    </tr>\n",
       "  </tbody>\n",
       "</table>\n",
       "</div>"
      ],
      "text/plain": [
       "   CustomerID  Rating       Date  MovieID\n",
       "1     1488844     3.0 2005-09-06        1\n",
       "2      822109     5.0 2005-05-13        1\n",
       "3      885013     4.0 2005-10-19        1\n",
       "4       30878     4.0 2005-12-26        1\n",
       "5      823519     3.0 2004-05-03        1"
      ]
     },
     "execution_count": 14,
     "metadata": {},
     "output_type": "execute_result"
    }
   ],
   "source": [
    "# remove those Movie ID rows with NaN Rating field\n",
    "train = train[pd.notnull(train.Rating)]\n",
    "\n",
    "# Change the MovieID data type as integer\n",
    "train['MovieID'] = movie_np.astype(int)\n",
    "\n",
    "# Change the CustomerID data type as integer\n",
    "train['CustomerID'] = train['CustomerID'].astype(int)\n",
    "\n",
    "# Change the Date data type as date time\n",
    "train['Date'] = pd.to_datetime(train['Date'], format='%Y-%m-%d')\n",
    "\n",
    "# Read the first 5 rows of train with correct column that shows customerid, rating, date, movieid\n",
    "train.head()"
   ]
  },
  {
   "cell_type": "code",
   "execution_count": 15,
   "metadata": {},
   "outputs": [
    {
     "data": {
      "text/plain": [
       "CustomerID    0\n",
       "Rating        0\n",
       "Date          0\n",
       "MovieID       0\n",
       "dtype: int64"
      ]
     },
     "execution_count": 15,
     "metadata": {},
     "output_type": "execute_result"
    }
   ],
   "source": [
    "# Check missing values in each column\n",
    "train.isnull().sum()"
   ]
  },
  {
   "cell_type": "code",
   "execution_count": 16,
   "metadata": {},
   "outputs": [
    {
     "data": {
      "text/plain": [
       "[<matplotlib.lines.Line2D at 0x11eacc550>]"
      ]
     },
     "execution_count": 16,
     "metadata": {},
     "output_type": "execute_result"
    },
    {
     "data": {
      "image/png": "[encoded data removed]",
      "text/plain": [
       "<matplotlib.figure.Figure at 0x11ed49f60>"
      ]
     },
     "metadata": {},
     "output_type": "display_data"
    }
   ],
   "source": [
    "# Every Customer rating count\n",
    "# Use.value_counts() for date and sample as month to do the sum\n",
    "\n",
    "# Set up the plot figure with size 16inches for length and 8 inches for width\n",
    "plt.figure(figsize=(16,8))\n",
    "\n",
    "c = train.groupby('CustomerID')['CustomerID'].agg(['count'])\n",
    "c.head()\n",
    "\n",
    "# Set up plot xlabel='CustomerID'\n",
    "plt.xlabel('CustomerID') \n",
    "\n",
    "# Set up plot ylabel='Rating Count'\n",
    "plt.ylabel('Rating Count') \n",
    "\n",
    "# Set up plot title=\"Every Customer Rating Count\"\n",
    "plt.title(\"Every Customer Rating Count\") \n",
    "\n",
    "# Create the plot using .plot()\n",
    "plt.plot(c)\n"
   ]
  },
  {
   "cell_type": "code",
   "execution_count": 17,
   "metadata": {},
   "outputs": [
    {
     "data": {
      "text/plain": [
       "[<matplotlib.lines.Line2D at 0x11c4526d8>]"
      ]
     },
     "execution_count": 17,
     "metadata": {},
     "output_type": "execute_result"
    },
    {
     "data": {
      "image/png": "[encoded data removed]",
      "text/plain": [
       "<matplotlib.figure.Figure at 0x11c619518>"
      ]
     },
     "metadata": {},
     "output_type": "display_data"
    }
   ],
   "source": [
    "# Every month rating count\n",
    "# Use.value_counts() for date and sample as month to do the sum\n",
    "a = train['Date'].value_counts().resample('M').sum()\n",
    "\n",
    "# Set up plot xlabel='Time'\n",
    "plt.xlabel('Time') \n",
    "\n",
    "# Set up plot ylabel='Records Count'\n",
    "plt.ylabel('Records Count') \n",
    "\n",
    "# Set up plot title=\"Every Month Rating Count\"\n",
    "plt.title(\"Every Month Rating Count\") \n",
    "\n",
    "# Create the plot using .plot()\n",
    "plt.plot(a)\n",
    "# We can find 2005 that year has lots of rating, so we probably can assume that Netflix gets lot of users at that time\n",
    "# Also 2004 that year was a big increase for Netflix user giving ratings"
   ]
  },
  {
   "cell_type": "code",
   "execution_count": 18,
   "metadata": {
    "collapsed": true
   },
   "outputs": [],
   "source": [
    "# Create new csv for future analyzing this netflix dataset using .to_csv() and set sep as comma\n",
    "train.to_csv(\"/Users/ChienMingHuang/Desktop/netflix-prize-data/train.csv\", sep=',')"
   ]
  },
  {
   "cell_type": "markdown",
   "metadata": {},
   "source": [
    "# Second Deal with movie_titles.csv data cleaning"
   ]
  },
  {
   "cell_type": "code",
   "execution_count": 15,
   "metadata": {
    "collapsed": true
   },
   "outputs": [],
   "source": [
    "# To deal with extra commas in movie title, we need to change the delimiter to |\n",
    "# Import csv library\n",
    "import csv\n",
    "\n",
    "# set the origin file as f and fixed file as g, and do the encoding=\"ISO-8859-1\" to prevent unicode encoding problem\n",
    "# Use csv.writer() and change the delimiter = |\n",
    "# The problem is that movie_title has extra comma inside, so we only do the split with first 2 commas\n",
    "with open(\"/Users/ChienMingHuang/Desktop/netflix-prize-data/movie_titles.csv\", 'r', encoding=\"ISO-8859-1\") as f, open(\"/Users/ChienMingHuang/Desktop/netflix-prize-data/movie_titles_revised.csv\", 'w', encoding=\"ISO-8859-1\") as g:\n",
    "    writer = csv.writer(g, delimiter='|')\n",
    "    for line in f:\n",
    "        row = line.split(',', 2)\n",
    "        writer.writerow(row)"
   ]
  },
  {
   "cell_type": "code",
   "execution_count": 136,
   "metadata": {},
   "outputs": [
    {
     "data": {
      "text/html": [
       "<div>\n",
       "<style>\n",
       "    .dataframe thead tr:only-child th {\n",
       "        text-align: right;\n",
       "    }\n",
       "\n",
       "    .dataframe thead th {\n",
       "        text-align: left;\n",
       "    }\n",
       "\n",
       "    .dataframe tbody tr th {\n",
       "        vertical-align: top;\n",
       "    }\n",
       "</style>\n",
       "<table border=\"1\" class=\"dataframe\">\n",
       "  <thead>\n",
       "    <tr style=\"text-align: right;\">\n",
       "      <th></th>\n",
       "      <th>0</th>\n",
       "      <th>1</th>\n",
       "      <th>2</th>\n",
       "    </tr>\n",
       "  </thead>\n",
       "  <tbody>\n",
       "    <tr>\n",
       "      <th>0</th>\n",
       "      <td>1</td>\n",
       "      <td>2003.0</td>\n",
       "      <td>Dinosaur Planet\\n</td>\n",
       "    </tr>\n",
       "    <tr>\n",
       "      <th>1</th>\n",
       "      <td>2</td>\n",
       "      <td>2004.0</td>\n",
       "      <td>Isle of Man TT 2004 Review\\n</td>\n",
       "    </tr>\n",
       "    <tr>\n",
       "      <th>2</th>\n",
       "      <td>3</td>\n",
       "      <td>1997.0</td>\n",
       "      <td>Character\\n</td>\n",
       "    </tr>\n",
       "    <tr>\n",
       "      <th>3</th>\n",
       "      <td>4</td>\n",
       "      <td>1994.0</td>\n",
       "      <td>Paula Abdul's Get Up &amp; Dance\\n</td>\n",
       "    </tr>\n",
       "    <tr>\n",
       "      <th>4</th>\n",
       "      <td>5</td>\n",
       "      <td>2004.0</td>\n",
       "      <td>The Rise and Fall of ECW\\n</td>\n",
       "    </tr>\n",
       "  </tbody>\n",
       "</table>\n",
       "</div>"
      ],
      "text/plain": [
       "   0       1                               2\n",
       "0  1  2003.0               Dinosaur Planet\\n\n",
       "1  2  2004.0    Isle of Man TT 2004 Review\\n\n",
       "2  3  1997.0                     Character\\n\n",
       "3  4  1994.0  Paula Abdul's Get Up & Dance\\n\n",
       "4  5  2004.0      The Rise and Fall of ECW\\n"
      ]
     },
     "execution_count": 136,
     "metadata": {},
     "output_type": "execute_result"
    }
   ],
   "source": [
    "# read movie_title revised csv and check the file \n",
    "movie= pd.read_csv(\"/Users/ChienMingHuang/Desktop/netflix-prize-data/movie_titles_revised.csv\", sep ='|', header = None, encoding =\"ISO-8859-1\")\n",
    "\n",
    "# Read the first 5 rows of movie\n",
    "movie.head()\n",
    "# We found out we have to give the header name and fix the data type, that year has no .0 and the movie title has remove \\n"
   ]
  },
  {
   "cell_type": "code",
   "execution_count": 137,
   "metadata": {},
   "outputs": [
    {
     "data": {
      "text/html": [
       "<div>\n",
       "<style>\n",
       "    .dataframe thead tr:only-child th {\n",
       "        text-align: right;\n",
       "    }\n",
       "\n",
       "    .dataframe thead th {\n",
       "        text-align: left;\n",
       "    }\n",
       "\n",
       "    .dataframe tbody tr th {\n",
       "        vertical-align: top;\n",
       "    }\n",
       "</style>\n",
       "<table border=\"1\" class=\"dataframe\">\n",
       "  <thead>\n",
       "    <tr style=\"text-align: right;\">\n",
       "      <th></th>\n",
       "      <th>MovieID</th>\n",
       "      <th>YearOfRelease</th>\n",
       "      <th>Title</th>\n",
       "    </tr>\n",
       "  </thead>\n",
       "  <tbody>\n",
       "    <tr>\n",
       "      <th>0</th>\n",
       "      <td>1</td>\n",
       "      <td>2003.0</td>\n",
       "      <td>Dinosaur Planet\\n</td>\n",
       "    </tr>\n",
       "    <tr>\n",
       "      <th>1</th>\n",
       "      <td>2</td>\n",
       "      <td>2004.0</td>\n",
       "      <td>Isle of Man TT 2004 Review\\n</td>\n",
       "    </tr>\n",
       "    <tr>\n",
       "      <th>2</th>\n",
       "      <td>3</td>\n",
       "      <td>1997.0</td>\n",
       "      <td>Character\\n</td>\n",
       "    </tr>\n",
       "    <tr>\n",
       "      <th>3</th>\n",
       "      <td>4</td>\n",
       "      <td>1994.0</td>\n",
       "      <td>Paula Abdul's Get Up &amp; Dance\\n</td>\n",
       "    </tr>\n",
       "    <tr>\n",
       "      <th>4</th>\n",
       "      <td>5</td>\n",
       "      <td>2004.0</td>\n",
       "      <td>The Rise and Fall of ECW\\n</td>\n",
       "    </tr>\n",
       "  </tbody>\n",
       "</table>\n",
       "</div>"
      ],
      "text/plain": [
       "   MovieID  YearOfRelease                           Title\n",
       "0        1         2003.0               Dinosaur Planet\\n\n",
       "1        2         2004.0    Isle of Man TT 2004 Review\\n\n",
       "2        3         1997.0                     Character\\n\n",
       "3        4         1994.0  Paula Abdul's Get Up & Dance\\n\n",
       "4        5         2004.0      The Rise and Fall of ECW\\n"
      ]
     },
     "execution_count": 137,
     "metadata": {},
     "output_type": "execute_result"
    }
   ],
   "source": [
    "# Add movie header as the netflix description\n",
    "movie.columns = [\"MovieID\", \"YearOfRelease\", \"Title\"]\n",
    "\n",
    "# Read the first 5 rows of movie and check the header\n",
    "movie.head()"
   ]
  },
  {
   "cell_type": "code",
   "execution_count": 138,
   "metadata": {},
   "outputs": [
    {
     "data": {
      "text/html": [
       "<div>\n",
       "<style>\n",
       "    .dataframe thead tr:only-child th {\n",
       "        text-align: right;\n",
       "    }\n",
       "\n",
       "    .dataframe thead th {\n",
       "        text-align: left;\n",
       "    }\n",
       "\n",
       "    .dataframe tbody tr th {\n",
       "        vertical-align: top;\n",
       "    }\n",
       "</style>\n",
       "<table border=\"1\" class=\"dataframe\">\n",
       "  <thead>\n",
       "    <tr style=\"text-align: right;\">\n",
       "      <th></th>\n",
       "      <th>MovieID</th>\n",
       "      <th>YearOfRelease</th>\n",
       "      <th>Title</th>\n",
       "    </tr>\n",
       "  </thead>\n",
       "  <tbody>\n",
       "    <tr>\n",
       "      <th>0</th>\n",
       "      <td>1</td>\n",
       "      <td>2003</td>\n",
       "      <td>Dinosaur Planet\\n</td>\n",
       "    </tr>\n",
       "    <tr>\n",
       "      <th>1</th>\n",
       "      <td>2</td>\n",
       "      <td>2004</td>\n",
       "      <td>Isle of Man TT 2004 Review\\n</td>\n",
       "    </tr>\n",
       "    <tr>\n",
       "      <th>2</th>\n",
       "      <td>3</td>\n",
       "      <td>1997</td>\n",
       "      <td>Character\\n</td>\n",
       "    </tr>\n",
       "    <tr>\n",
       "      <th>3</th>\n",
       "      <td>4</td>\n",
       "      <td>1994</td>\n",
       "      <td>Paula Abdul's Get Up &amp; Dance\\n</td>\n",
       "    </tr>\n",
       "    <tr>\n",
       "      <th>4</th>\n",
       "      <td>5</td>\n",
       "      <td>2004</td>\n",
       "      <td>The Rise and Fall of ECW\\n</td>\n",
       "    </tr>\n",
       "  </tbody>\n",
       "</table>\n",
       "</div>"
      ],
      "text/plain": [
       "   MovieID YearOfRelease                           Title\n",
       "0        1          2003               Dinosaur Planet\\n\n",
       "1        2          2004    Isle of Man TT 2004 Review\\n\n",
       "2        3          1997                     Character\\n\n",
       "3        4          1994  Paula Abdul's Get Up & Dance\\n\n",
       "4        5          2004      The Rise and Fall of ECW\\n"
      ]
     },
     "execution_count": 138,
     "metadata": {},
     "output_type": "execute_result"
    }
   ],
   "source": [
    "# Change YearOfRelase datatype using astype() to object\n",
    "movie.YearOfRelease = movie.YearOfRelease.astype(object)\n",
    "\n",
    "# Read the first 5 rows of movie and check the YearOfRelase\n",
    "movie.head()"
   ]
  },
  {
   "cell_type": "code",
   "execution_count": 139,
   "metadata": {},
   "outputs": [
    {
     "data": {
      "text/html": [
       "<div>\n",
       "<style>\n",
       "    .dataframe thead tr:only-child th {\n",
       "        text-align: right;\n",
       "    }\n",
       "\n",
       "    .dataframe thead th {\n",
       "        text-align: left;\n",
       "    }\n",
       "\n",
       "    .dataframe tbody tr th {\n",
       "        vertical-align: top;\n",
       "    }\n",
       "</style>\n",
       "<table border=\"1\" class=\"dataframe\">\n",
       "  <thead>\n",
       "    <tr style=\"text-align: right;\">\n",
       "      <th></th>\n",
       "      <th>MovieID</th>\n",
       "      <th>YearOfRelease</th>\n",
       "      <th>Title</th>\n",
       "    </tr>\n",
       "  </thead>\n",
       "  <tbody>\n",
       "    <tr>\n",
       "      <th>0</th>\n",
       "      <td>1</td>\n",
       "      <td>2003</td>\n",
       "      <td>Dinosaur Planet</td>\n",
       "    </tr>\n",
       "    <tr>\n",
       "      <th>1</th>\n",
       "      <td>2</td>\n",
       "      <td>2004</td>\n",
       "      <td>Isle of Man TT 2004 Review</td>\n",
       "    </tr>\n",
       "    <tr>\n",
       "      <th>2</th>\n",
       "      <td>3</td>\n",
       "      <td>1997</td>\n",
       "      <td>Character</td>\n",
       "    </tr>\n",
       "    <tr>\n",
       "      <th>3</th>\n",
       "      <td>4</td>\n",
       "      <td>1994</td>\n",
       "      <td>Paula Abdul's Get Up &amp; Dance</td>\n",
       "    </tr>\n",
       "    <tr>\n",
       "      <th>4</th>\n",
       "      <td>5</td>\n",
       "      <td>2004</td>\n",
       "      <td>The Rise and Fall of ECW</td>\n",
       "    </tr>\n",
       "  </tbody>\n",
       "</table>\n",
       "</div>"
      ],
      "text/plain": [
       "   MovieID YearOfRelease                         Title\n",
       "0        1          2003               Dinosaur Planet\n",
       "1        2          2004    Isle of Man TT 2004 Review\n",
       "2        3          1997                     Character\n",
       "3        4          1994  Paula Abdul's Get Up & Dance\n",
       "4        5          2004      The Rise and Fall of ECW"
      ]
     },
     "execution_count": 139,
     "metadata": {},
     "output_type": "execute_result"
    }
   ],
   "source": [
    "# Remove the regular expression in Title using .replace() to remove \\n, and set regex= True\n",
    "movie.Title = movie.Title.replace('\\n','', regex=True)\n",
    "\n",
    "# Read the first 5 rows of movie and check the Title\n",
    "movie.head()"
   ]
  },
  {
   "cell_type": "code",
   "execution_count": 140,
   "metadata": {},
   "outputs": [
    {
     "data": {
      "text/plain": [
       "MovieID          0\n",
       "YearOfRelease    7\n",
       "Title            0\n",
       "dtype: int64"
      ]
     },
     "execution_count": 140,
     "metadata": {},
     "output_type": "execute_result"
    }
   ],
   "source": [
    "# Check missing values in each column\n",
    "movie.isnull().sum()\n",
    "# We find out there are 7 missing values in the YearOfRelease, we can later set them as NaN"
   ]
  },
  {
   "cell_type": "code",
   "execution_count": 141,
   "metadata": {},
   "outputs": [
    {
     "data": {
      "text/plain": [
       "MovieID          0\n",
       "YearOfRelease    0\n",
       "Title            0\n",
       "dtype: int64"
      ]
     },
     "execution_count": 141,
     "metadata": {},
     "output_type": "execute_result"
    }
   ],
   "source": [
    "# Set the missing value in YearOfRelease as unknown\n",
    "movie = movie.fillna('unknown')\n",
    "\n",
    "# \n",
    "pd.to_numeric(movie['YearOfRelease'], errors='ignore')\n",
    "\n",
    "# Check missing values in each column\n",
    "movie.isnull().sum()"
   ]
  },
  {
   "cell_type": "code",
   "execution_count": 148,
   "metadata": {},
   "outputs": [
    {
     "data": {
      "text/plain": [
       "<matplotlib.text.Text at 0x129c8cfd0>"
      ]
     },
     "execution_count": 148,
     "metadata": {},
     "output_type": "execute_result"
    },
    {
     "data": {
      "image/png": "[encoded data removed]",
      "text/plain": [
       "<matplotlib.figure.Figure at 0x123506b00>"
      ]
     },
     "metadata": {},
     "output_type": "display_data"
    }
   ],
   "source": [
    "# Netflix Movie for every year plot\n",
    "# Set up yearstuff remove the movies with unknown year of release \n",
    "yearstuff= movie[movie.YearOfRelease != 'unknown']\n",
    "\n",
    "# Set up the plot figure with size 16inches for length and 8 inches for width\n",
    "plt.figure(figsize=(16,8))\n",
    "\n",
    "# Use .countplot() to do the count plot\n",
    "movieyear = sns.countplot(x=\"YearOfRelease\", data=yearstuff)\n",
    "\n",
    "# Set the xlabel for rotation 90 degrees using .xticks()\n",
    "plt.xticks(rotation=90) \n",
    "\n",
    "# Set up plot xlabel='Year'\n",
    "plt.xlabel('Year') \n",
    "\n",
    "# Set up plot ylabel='Movie Count'\n",
    "plt.ylabel('Movie Count') \n",
    "\n",
    "# Set up plot title=\"Netflix Movie for every year\"\n",
    "plt.title(\"Netflix Movie for every year\") \n",
    "\n",
    "# We can find out the 2000s have lots of movies especially 2004 Netflix has 1400 movies."
   ]
  },
  {
   "cell_type": "markdown",
   "metadata": {},
   "source": [
    "# Reference:\n",
    "1. https://www.kaggle.com/netflix-inc/netflix-prize-data/data\n",
    "2. https://pandas.pydata.org/pandas-docs/stable/generated/pandas.read_csv.html\n",
    "3. https://www.kaggle.com/laowingkin/movie-recommendation-with-netflix/notebook\n"
   ]
  }
 ],
 "metadata": {
  "kernelspec": {
   "display_name": "Python 3",
   "language": "python",
   "name": "python3"
  },
  "language_info": {
   "codemirror_mode": {
    "name": "ipython",
    "version": 3
   },
   "file_extension": ".py",
   "mimetype": "text/x-python",
   "name": "python",
   "nbconvert_exporter": "python",
   "pygments_lexer": "ipython3",
   "version": "3.6.1"
  }
 },
 "nbformat": 4,
 "nbformat_minor": 2
}
